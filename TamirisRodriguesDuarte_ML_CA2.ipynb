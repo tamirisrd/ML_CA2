{
 "cells": [
  {
   "cell_type": "markdown",
   "id": "4a1dc725",
   "metadata": {},
   "source": [
    "# CCT College\n",
    "\n",
    "###### Module Title(s):\t\n",
    "Machine Learning for AI\n",
    "###### Lecturer Name(s):\t\n",
    "David McQuaid\n",
    "###### Assessment Title:\t\n",
    "ML_CA2\n",
    "###### Student Name: \n",
    "Tamiris Rodrigues Duarte\n",
    "###### Student Number:\n",
    "2020294\n",
    "###### Due Date (Deadline):\t\n",
    "31st May 2024\n",
    "\n",
    "###### GitHub:\t\n",
    "https://github.com/tamirisrd/ML_CA2"
   ]
  },
  {
   "cell_type": "markdown",
   "id": "d8e4fec0",
   "metadata": {},
   "source": [
    "### Neural Networks\n",
    "\n",
    "You are required to take data stored file “BankRecords.csv”, available on Moodle and process the data into a DataFrame. \n",
    "You are then required to train a Neural Network to predict the “Income(Thousands’)” of the customers, including tuning the network to achieve the best results.\n",
    "You must also compare your neural network to a standard ML regressor of your choosing and discuss your findings in the context of the problem at hand."
   ]
  },
  {
   "cell_type": "markdown",
   "id": "c2d7afaa",
   "metadata": {},
   "source": [
    "### Semantic Analysis\n",
    "\n",
    "You are required to source text data from any social media platform on any topic that you choose and perform semantic analysis on the text. This analysis should provide a visualization of  the overall sentiment of your text data , showing the positive, neutral, and negative sentiment expressed. You will require at least 1000 text observations."
   ]
  },
  {
   "cell_type": "markdown",
   "id": "16a254ef",
   "metadata": {},
   "source": [
    "###### Requirements\n",
    "\n",
    "Perform any preparation of the data (for both the Neural Network and Semantic Analysis data) , that you feel is necessary, using python in your Jupyter notebook. Explain your rationale behind your data preparation and how it will assist you.[0-30]\n",
    "\n",
    "Create and implement at least 1 Regression algorithm and 1 Neural Network that will output a Prediction of the  “Income(Thousands’)” of the customers. Test these models and try to improve it as you see fit discussing your rationale. Discuss your findings and final rational for choosing a particular Regression algorithm.[0-40]\n",
    "\n",
    "Make a Prediction of a new customers income, who is not available in the original dataset [0-5]\n",
    "\n",
    "Perform Sentiment analysis on your text data and discuss your findings in detail. [0-20]\n",
    "\n",
    "Visualize your sentiment analysis showing the positive, neutral, and negative sentiment expressed[0-5]\n"
   ]
  },
  {
   "cell_type": "code",
   "execution_count": 10,
   "id": "d453b0cf",
   "metadata": {},
   "outputs": [],
   "source": [
    "import pandas as pd\n",
    "import numpy as np\n"
   ]
  },
  {
   "cell_type": "code",
   "execution_count": 11,
   "id": "c53e85ac",
   "metadata": {},
   "outputs": [
    {
     "data": {
      "text/html": [
       "<div>\n",
       "<style scoped>\n",
       "    .dataframe tbody tr th:only-of-type {\n",
       "        vertical-align: middle;\n",
       "    }\n",
       "\n",
       "    .dataframe tbody tr th {\n",
       "        vertical-align: top;\n",
       "    }\n",
       "\n",
       "    .dataframe thead th {\n",
       "        text-align: right;\n",
       "    }\n",
       "</style>\n",
       "<table border=\"1\" class=\"dataframe\">\n",
       "  <thead>\n",
       "    <tr style=\"text-align: right;\">\n",
       "      <th></th>\n",
       "      <th>review</th>\n",
       "      <th>sentiment</th>\n",
       "    </tr>\n",
       "  </thead>\n",
       "  <tbody>\n",
       "    <tr>\n",
       "      <th>0</th>\n",
       "      <td>One of the other reviewers has mentioned that ...</td>\n",
       "      <td>positive</td>\n",
       "    </tr>\n",
       "    <tr>\n",
       "      <th>1</th>\n",
       "      <td>A wonderful little production. &lt;br /&gt;&lt;br /&gt;The...</td>\n",
       "      <td>positive</td>\n",
       "    </tr>\n",
       "    <tr>\n",
       "      <th>2</th>\n",
       "      <td>I thought this was a wonderful way to spend ti...</td>\n",
       "      <td>positive</td>\n",
       "    </tr>\n",
       "    <tr>\n",
       "      <th>3</th>\n",
       "      <td>Basically there's a family where a little boy ...</td>\n",
       "      <td>negative</td>\n",
       "    </tr>\n",
       "    <tr>\n",
       "      <th>4</th>\n",
       "      <td>Petter Mattei's \"Love in the Time of Money\" is...</td>\n",
       "      <td>positive</td>\n",
       "    </tr>\n",
       "  </tbody>\n",
       "</table>\n",
       "</div>"
      ],
      "text/plain": [
       "                                              review sentiment\n",
       "0  One of the other reviewers has mentioned that ...  positive\n",
       "1  A wonderful little production. <br /><br />The...  positive\n",
       "2  I thought this was a wonderful way to spend ti...  positive\n",
       "3  Basically there's a family where a little boy ...  negative\n",
       "4  Petter Mattei's \"Love in the Time of Money\" is...  positive"
      ]
     },
     "execution_count": 11,
     "metadata": {},
     "output_type": "execute_result"
    }
   ],
   "source": [
    "# Read file\n",
    "df = pd.read_csv(\"IMDB Dataset.csv\")\n",
    "df.head()"
   ]
  },
  {
   "cell_type": "code",
   "execution_count": 12,
   "id": "cd0976c0",
   "metadata": {},
   "outputs": [
    {
     "name": "stdout",
     "output_type": "stream",
     "text": [
      "<class 'pandas.core.frame.DataFrame'>\n",
      "RangeIndex: 50000 entries, 0 to 49999\n",
      "Data columns (total 2 columns):\n",
      " #   Column     Non-Null Count  Dtype \n",
      "---  ------     --------------  ----- \n",
      " 0   review     50000 non-null  object\n",
      " 1   sentiment  50000 non-null  object\n",
      "dtypes: object(2)\n",
      "memory usage: 781.4+ KB\n"
     ]
    }
   ],
   "source": [
    "df.info()"
   ]
  },
  {
   "cell_type": "code",
   "execution_count": 17,
   "id": "64094019",
   "metadata": {},
   "outputs": [
    {
     "name": "stdout",
     "output_type": "stream",
     "text": [
      "review       0\n",
      "sentiment    0\n",
      "dtype: int64\n"
     ]
    }
   ],
   "source": [
    "missing_value = df.isnull().sum()\n",
    "print(missing_value)"
   ]
  },
  {
   "cell_type": "code",
   "execution_count": null,
   "id": "1b2a497e",
   "metadata": {},
   "outputs": [],
   "source": []
  }
 ],
 "metadata": {
  "kernelspec": {
   "display_name": "Python 3 (ipykernel)",
   "language": "python",
   "name": "python3"
  },
  "language_info": {
   "codemirror_mode": {
    "name": "ipython",
    "version": 3
   },
   "file_extension": ".py",
   "mimetype": "text/x-python",
   "name": "python",
   "nbconvert_exporter": "python",
   "pygments_lexer": "ipython3",
   "version": "3.11.5"
  }
 },
 "nbformat": 4,
 "nbformat_minor": 5
}
